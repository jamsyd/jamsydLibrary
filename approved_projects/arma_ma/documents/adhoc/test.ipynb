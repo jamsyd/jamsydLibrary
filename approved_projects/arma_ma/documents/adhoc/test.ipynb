{
 "cells": [
  {
   "cell_type": "code",
   "execution_count": 1,
   "metadata": {},
   "outputs": [],
   "source": [
    "import numpy as np\n",
    "import pandas as pd\n",
    "\n",
    "from datetime import datetime\n",
    "import statsmodels.api as sm\n"
   ]
  },
  {
   "cell_type": "code",
   "execution_count": 2,
   "metadata": {},
   "outputs": [],
   "source": [
    "product = \"DAX\"\n",
    "\n",
    "arma_model_event = {\n",
    "\n",
    "    'dataframe':r\"C:\\Users\\James Stanley\\Documents\\GitHub\\backtest_utilities\\data\\market_data\\daily\\stocks\\BATS_DAX, 1D.csv\",\n",
    "    'forecastHorizon':5,\n",
    "    'trainDFLength':252,\n",
    "    'order':(2,0,2),\n",
    "    'num_models':1800,\n",
    "    'diff':True,\n",
    "    'product':product,\n",
    "    'column':'close',\n",
    "    'b_adjust':True,\n",
    "\n",
    "}"
   ]
  },
  {
   "cell_type": "code",
   "execution_count": 3,
   "metadata": {},
   "outputs": [],
   "source": [
    "cacheForecasts = {\n",
    "\n",
    "    'asofdate':[],\n",
    "    'pointForecast':[],\n",
    "    'close':[],\n",
    "    'forecastday':[],\n",
    "    'product_name':[],\n",
    "    'MA_50':[],\n",
    "    'MA_diff_50':[],\n",
    "\n",
    "}"
   ]
  },
  {
   "cell_type": "code",
   "execution_count": 4,
   "metadata": {},
   "outputs": [],
   "source": [
    "arma_model_event['dataframe'] = pd.read_csv(arma_model_event['dataframe'])"
   ]
  },
  {
   "cell_type": "code",
   "execution_count": 5,
   "metadata": {},
   "outputs": [],
   "source": [
    "diff = np.log(arma_model_event['dataframe']['close'])"
   ]
  },
  {
   "cell_type": "code",
   "execution_count": 6,
   "metadata": {},
   "outputs": [],
   "source": [
    "i = 0\n",
    "# mod = ARIMA(diff[i:i+arma_model_event['trainDFLength']], order=arma_model_event['order'])\n",
    "\n",
    "mod = sm.tsa.arima.ARIMA(diff[i:i+arma_model_event['trainDFLength']], order=arma_model_event['order'])\n",
    "res = mod.fit()"
   ]
  }
 ],
 "metadata": {
  "kernelspec": {
   "display_name": "airflow-env",
   "language": "python",
   "name": "python3"
  },
  "language_info": {
   "codemirror_mode": {
    "name": "ipython",
    "version": 3
   },
   "file_extension": ".py",
   "mimetype": "text/x-python",
   "name": "python",
   "nbconvert_exporter": "python",
   "pygments_lexer": "ipython3",
   "version": "3.11.3"
  },
  "orig_nbformat": 4
 },
 "nbformat": 4,
 "nbformat_minor": 2
}
