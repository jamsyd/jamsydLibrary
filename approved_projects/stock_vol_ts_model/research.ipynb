{
 "cells": [
  {
   "attachments": {},
   "cell_type": "markdown",
   "metadata": {},
   "source": [
    "# XLE VXXLE"
   ]
  },
  {
   "cell_type": "code",
   "execution_count": 2,
   "metadata": {},
   "outputs": [],
   "source": [
    "import numpy as np\n",
    "import pandas as pd\n",
    "\n",
    "import matplotlib.pyplot as plt"
   ]
  },
  {
   "cell_type": "code",
   "execution_count": 10,
   "metadata": {},
   "outputs": [],
   "source": [
    "from statsmodels.tsa.arima_model import ARMA\n",
    "\n",
    "from statsmodels.graphics.tsaplots import plot_acf\n",
    "from statsmodels.graphics.tsaplots import plot_pacf\n",
    "\n",
    "from statsmodels.tsa.seasonal import seasonal_decompose"
   ]
  },
  {
   "cell_type": "code",
   "execution_count": 3,
   "metadata": {},
   "outputs": [],
   "source": [
    "df = pd.read_csv(r'C:\\Users\\James Stanley\\Documents\\GitHub\\backtest_utilities\\approved_projects\\stock_vol_ts_model\\Data\\CBOE_DLY_VXXLE, 1D.csv',parse_dates=True,index_col='time')"
   ]
  },
  {
   "cell_type": "code",
   "execution_count": 4,
   "metadata": {},
   "outputs": [
    {
     "data": {
      "text/html": [
       "<div>\n",
       "<style scoped>\n",
       "    .dataframe tbody tr th:only-of-type {\n",
       "        vertical-align: middle;\n",
       "    }\n",
       "\n",
       "    .dataframe tbody tr th {\n",
       "        vertical-align: top;\n",
       "    }\n",
       "\n",
       "    .dataframe thead th {\n",
       "        text-align: right;\n",
       "    }\n",
       "</style>\n",
       "<table border=\"1\" class=\"dataframe\">\n",
       "  <thead>\n",
       "    <tr style=\"text-align: right;\">\n",
       "      <th></th>\n",
       "      <th>open</th>\n",
       "      <th>high</th>\n",
       "      <th>low</th>\n",
       "      <th>close</th>\n",
       "      <th>XLE, CBOE ONE: Open</th>\n",
       "      <th>XLE, CBOE ONE: High</th>\n",
       "      <th>XLE, CBOE ONE: Low</th>\n",
       "      <th>XLE, CBOE ONE: Close</th>\n",
       "      <th>MA</th>\n",
       "      <th>Smoothing Line</th>\n",
       "      <th>Volume</th>\n",
       "      <th>Volume MA</th>\n",
       "      <th>Basic EPS</th>\n",
       "      <th>EPS estimates</th>\n",
       "      <th>Average basic shares outstanding</th>\n",
       "      <th>Diluted shares outstanding</th>\n",
       "    </tr>\n",
       "    <tr>\n",
       "      <th>time</th>\n",
       "      <th></th>\n",
       "      <th></th>\n",
       "      <th></th>\n",
       "      <th></th>\n",
       "      <th></th>\n",
       "      <th></th>\n",
       "      <th></th>\n",
       "      <th></th>\n",
       "      <th></th>\n",
       "      <th></th>\n",
       "      <th></th>\n",
       "      <th></th>\n",
       "      <th></th>\n",
       "      <th></th>\n",
       "      <th></th>\n",
       "      <th></th>\n",
       "    </tr>\n",
       "  </thead>\n",
       "  <tbody>\n",
       "    <tr>\n",
       "      <th>2011-03-16 13:30:00+00:00</th>\n",
       "      <td>28.99</td>\n",
       "      <td>33.52</td>\n",
       "      <td>28.65</td>\n",
       "      <td>32.16</td>\n",
       "      <td>75.17000</td>\n",
       "      <td>75.81000</td>\n",
       "      <td>72.98000</td>\n",
       "      <td>73.75000</td>\n",
       "      <td>NaN</td>\n",
       "      <td>NaN</td>\n",
       "      <td>NaN</td>\n",
       "      <td>NaN</td>\n",
       "      <td>NaN</td>\n",
       "      <td>NaN</td>\n",
       "      <td>NaN</td>\n",
       "      <td>NaN</td>\n",
       "    </tr>\n",
       "    <tr>\n",
       "      <th>2011-03-17 13:30:00+00:00</th>\n",
       "      <td>28.99</td>\n",
       "      <td>33.52</td>\n",
       "      <td>28.65</td>\n",
       "      <td>29.36</td>\n",
       "      <td>75.20000</td>\n",
       "      <td>76.39000</td>\n",
       "      <td>74.71001</td>\n",
       "      <td>76.00000</td>\n",
       "      <td>NaN</td>\n",
       "      <td>NaN</td>\n",
       "      <td>NaN</td>\n",
       "      <td>NaN</td>\n",
       "      <td>NaN</td>\n",
       "      <td>NaN</td>\n",
       "      <td>NaN</td>\n",
       "      <td>NaN</td>\n",
       "    </tr>\n",
       "    <tr>\n",
       "      <th>2011-03-18 13:30:00+00:00</th>\n",
       "      <td>28.99</td>\n",
       "      <td>33.52</td>\n",
       "      <td>27.71</td>\n",
       "      <td>28.56</td>\n",
       "      <td>76.67999</td>\n",
       "      <td>76.86000</td>\n",
       "      <td>75.28999</td>\n",
       "      <td>75.39000</td>\n",
       "      <td>NaN</td>\n",
       "      <td>NaN</td>\n",
       "      <td>NaN</td>\n",
       "      <td>NaN</td>\n",
       "      <td>NaN</td>\n",
       "      <td>NaN</td>\n",
       "      <td>NaN</td>\n",
       "      <td>NaN</td>\n",
       "    </tr>\n",
       "    <tr>\n",
       "      <th>2011-03-21 13:30:00+00:00</th>\n",
       "      <td>28.99</td>\n",
       "      <td>33.52</td>\n",
       "      <td>25.63</td>\n",
       "      <td>26.21</td>\n",
       "      <td>76.70000</td>\n",
       "      <td>77.70000</td>\n",
       "      <td>76.55000</td>\n",
       "      <td>77.67999</td>\n",
       "      <td>NaN</td>\n",
       "      <td>NaN</td>\n",
       "      <td>NaN</td>\n",
       "      <td>NaN</td>\n",
       "      <td>NaN</td>\n",
       "      <td>NaN</td>\n",
       "      <td>NaN</td>\n",
       "      <td>NaN</td>\n",
       "    </tr>\n",
       "    <tr>\n",
       "      <th>2011-03-22 13:30:00+00:00</th>\n",
       "      <td>28.99</td>\n",
       "      <td>33.52</td>\n",
       "      <td>25.58</td>\n",
       "      <td>25.71</td>\n",
       "      <td>77.70000</td>\n",
       "      <td>77.96001</td>\n",
       "      <td>77.25999</td>\n",
       "      <td>77.50999</td>\n",
       "      <td>NaN</td>\n",
       "      <td>NaN</td>\n",
       "      <td>NaN</td>\n",
       "      <td>NaN</td>\n",
       "      <td>NaN</td>\n",
       "      <td>NaN</td>\n",
       "      <td>NaN</td>\n",
       "      <td>NaN</td>\n",
       "    </tr>\n",
       "  </tbody>\n",
       "</table>\n",
       "</div>"
      ],
      "text/plain": [
       "                            open   high    low  close  XLE, CBOE ONE: Open  \\\n",
       "time                                                                         \n",
       "2011-03-16 13:30:00+00:00  28.99  33.52  28.65  32.16             75.17000   \n",
       "2011-03-17 13:30:00+00:00  28.99  33.52  28.65  29.36             75.20000   \n",
       "2011-03-18 13:30:00+00:00  28.99  33.52  27.71  28.56             76.67999   \n",
       "2011-03-21 13:30:00+00:00  28.99  33.52  25.63  26.21             76.70000   \n",
       "2011-03-22 13:30:00+00:00  28.99  33.52  25.58  25.71             77.70000   \n",
       "\n",
       "                           XLE, CBOE ONE: High  XLE, CBOE ONE: Low  \\\n",
       "time                                                                 \n",
       "2011-03-16 13:30:00+00:00             75.81000            72.98000   \n",
       "2011-03-17 13:30:00+00:00             76.39000            74.71001   \n",
       "2011-03-18 13:30:00+00:00             76.86000            75.28999   \n",
       "2011-03-21 13:30:00+00:00             77.70000            76.55000   \n",
       "2011-03-22 13:30:00+00:00             77.96001            77.25999   \n",
       "\n",
       "                           XLE, CBOE ONE: Close  MA  Smoothing Line  Volume  \\\n",
       "time                                                                          \n",
       "2011-03-16 13:30:00+00:00              73.75000 NaN             NaN     NaN   \n",
       "2011-03-17 13:30:00+00:00              76.00000 NaN             NaN     NaN   \n",
       "2011-03-18 13:30:00+00:00              75.39000 NaN             NaN     NaN   \n",
       "2011-03-21 13:30:00+00:00              77.67999 NaN             NaN     NaN   \n",
       "2011-03-22 13:30:00+00:00              77.50999 NaN             NaN     NaN   \n",
       "\n",
       "                           Volume MA  Basic EPS  EPS estimates  \\\n",
       "time                                                             \n",
       "2011-03-16 13:30:00+00:00        NaN        NaN            NaN   \n",
       "2011-03-17 13:30:00+00:00        NaN        NaN            NaN   \n",
       "2011-03-18 13:30:00+00:00        NaN        NaN            NaN   \n",
       "2011-03-21 13:30:00+00:00        NaN        NaN            NaN   \n",
       "2011-03-22 13:30:00+00:00        NaN        NaN            NaN   \n",
       "\n",
       "                           Average basic shares outstanding  \\\n",
       "time                                                          \n",
       "2011-03-16 13:30:00+00:00                               NaN   \n",
       "2011-03-17 13:30:00+00:00                               NaN   \n",
       "2011-03-18 13:30:00+00:00                               NaN   \n",
       "2011-03-21 13:30:00+00:00                               NaN   \n",
       "2011-03-22 13:30:00+00:00                               NaN   \n",
       "\n",
       "                           Diluted shares outstanding  \n",
       "time                                                   \n",
       "2011-03-16 13:30:00+00:00                         NaN  \n",
       "2011-03-17 13:30:00+00:00                         NaN  \n",
       "2011-03-18 13:30:00+00:00                         NaN  \n",
       "2011-03-21 13:30:00+00:00                         NaN  \n",
       "2011-03-22 13:30:00+00:00                         NaN  "
      ]
     },
     "execution_count": 4,
     "metadata": {},
     "output_type": "execute_result"
    }
   ],
   "source": [
    "df.head()"
   ]
  },
  {
   "cell_type": "code",
   "execution_count": 5,
   "metadata": {},
   "outputs": [],
   "source": [
    "trader_df = df[['close','XLE, CBOE ONE: Close']]"
   ]
  },
  {
   "cell_type": "code",
   "execution_count": 6,
   "metadata": {},
   "outputs": [],
   "source": [
    "diff = np.log(trader_df).diff(1)"
   ]
  },
  {
   "cell_type": "code",
   "execution_count": 9,
   "metadata": {},
   "outputs": [
    {
     "data": {
      "text/plain": [
       "<matplotlib.collections.PathCollection at 0x1b14e856c48>"
      ]
     },
     "execution_count": 9,
     "metadata": {},
     "output_type": "execute_result"
    },
    {
     "data": {
      "image/png": "[encoded data removed]",
      "text/plain": [
       "<Figure size 1440x1440 with 1 Axes>"
      ]
     },
     "metadata": {
      "needs_background": "light"
     },
     "output_type": "display_data"
    }
   ],
   "source": [
    "plt.figure(figsize=(20,20))\n",
    "plt.scatter(diff['close'],diff['XLE, CBOE ONE: Close'])"
   ]
  },
  {
   "attachments": {},
   "cell_type": "markdown",
   "metadata": {},
   "source": [
    "# VXXLE"
   ]
  },
  {
   "cell_type": "code",
   "execution_count": 13,
   "metadata": {},
   "outputs": [
    {
     "data": {
      "image/png": "[encoded data removed]",
      "text/plain": [
       "<Figure size 432x288 with 1 Axes>"
      ]
     },
     "execution_count": 13,
     "metadata": {},
     "output_type": "execute_result"
    },
    {
     "data": {
      "image/png": "[encoded data removed]",
      "text/plain": [
       "<Figure size 432x288 with 1 Axes>"
      ]
     },
     "metadata": {
      "needs_background": "light"
     },
     "output_type": "display_data"
    }
   ],
   "source": [
    "plot_acf(diff['close'].dropna(axis=0), alpha=0.05, lags=5)"
   ]
  },
  {
   "cell_type": "code",
   "execution_count": 14,
   "metadata": {},
   "outputs": [
    {
     "name": "stderr",
     "output_type": "stream",
     "text": [
      "c:\\Users\\James Stanley\\anaconda3\\envs\\airflow-env\\lib\\site-packages\\statsmodels\\graphics\\tsaplots.py:353: FutureWarning: The default method 'yw' can produce PACF values outside of the [-1,1] interval. After 0.13, the default will change tounadjusted Yule-Walker ('ywm'). You can use this method now by setting method='ywm'.\n",
      "  FutureWarning,\n"
     ]
    },
    {
     "data": {
      "image/png": "[encoded data removed]",
      "text/plain": [
       "<Figure size 432x288 with 1 Axes>"
      ]
     },
     "execution_count": 14,
     "metadata": {},
     "output_type": "execute_result"
    },
    {
     "data": {
      "image/png": "[encoded data removed]",
      "text/plain": [
       "<Figure size 432x288 with 1 Axes>"
      ]
     },
     "metadata": {
      "needs_background": "light"
     },
     "output_type": "display_data"
    }
   ],
   "source": [
    "plot_pacf(diff['close'].dropna(axis=0), alpha=0.05, lags=5)"
   ]
  },
  {
   "attachments": {},
   "cell_type": "markdown",
   "metadata": {},
   "source": [
    "# XLE"
   ]
  },
  {
   "cell_type": "code",
   "execution_count": 15,
   "metadata": {},
   "outputs": [
    {
     "data": {
      "image/png": "[encoded data removed]",
      "text/plain": [
       "<Figure size 432x288 with 1 Axes>"
      ]
     },
     "execution_count": 15,
     "metadata": {},
     "output_type": "execute_result"
    },
    {
     "data": {
      "image/png": "[encoded data removed]",
      "text/plain": [
       "<Figure size 432x288 with 1 Axes>"
      ]
     },
     "metadata": {
      "needs_background": "light"
     },
     "output_type": "display_data"
    }
   ],
   "source": [
    "plot_acf(diff['XLE, CBOE ONE: Close'].dropna(axis=0), alpha=0.05, lags=5)"
   ]
  },
  {
   "cell_type": "code",
   "execution_count": 16,
   "metadata": {},
   "outputs": [
    {
     "name": "stderr",
     "output_type": "stream",
     "text": [
      "c:\\Users\\James Stanley\\anaconda3\\envs\\airflow-env\\lib\\site-packages\\statsmodels\\graphics\\tsaplots.py:353: FutureWarning: The default method 'yw' can produce PACF values outside of the [-1,1] interval. After 0.13, the default will change tounadjusted Yule-Walker ('ywm'). You can use this method now by setting method='ywm'.\n",
      "  FutureWarning,\n"
     ]
    },
    {
     "data": {
      "image/png": "[encoded data removed]",
      "text/plain": [
       "<Figure size 432x288 with 1 Axes>"
      ]
     },
     "execution_count": 16,
     "metadata": {},
     "output_type": "execute_result"
    },
    {
     "data": {
      "image/png": "[encoded data removed]",
      "text/plain": [
       "<Figure size 432x288 with 1 Axes>"
      ]
     },
     "metadata": {
      "needs_background": "light"
     },
     "output_type": "display_data"
    }
   ],
   "source": [
    "plot_pacf(diff['XLE, CBOE ONE: Close'].dropna(axis=0), alpha=0.05, lags=5)"
   ]
  },
  {
   "attachments": {},
   "cell_type": "markdown",
   "metadata": {},
   "source": [
    "# Test Model"
   ]
  },
  {
   "cell_type": "code",
   "execution_count": 17,
   "metadata": {},
   "outputs": [],
   "source": [
    "import statsmodels.api as sm"
   ]
  },
  {
   "cell_type": "code",
   "execution_count": 33,
   "metadata": {},
   "outputs": [],
   "source": [
    "data = diff.dropna(axis=0).reset_index()"
   ]
  },
  {
   "cell_type": "code",
   "execution_count": 34,
   "metadata": {},
   "outputs": [
    {
     "data": {
      "text/html": [
       "<div>\n",
       "<style scoped>\n",
       "    .dataframe tbody tr th:only-of-type {\n",
       "        vertical-align: middle;\n",
       "    }\n",
       "\n",
       "    .dataframe tbody tr th {\n",
       "        vertical-align: top;\n",
       "    }\n",
       "\n",
       "    .dataframe thead th {\n",
       "        text-align: right;\n",
       "    }\n",
       "</style>\n",
       "<table border=\"1\" class=\"dataframe\">\n",
       "  <thead>\n",
       "    <tr style=\"text-align: right;\">\n",
       "      <th></th>\n",
       "      <th>time</th>\n",
       "      <th>close</th>\n",
       "      <th>XLE, CBOE ONE: Close</th>\n",
       "    </tr>\n",
       "  </thead>\n",
       "  <tbody>\n",
       "    <tr>\n",
       "      <th>0</th>\n",
       "      <td>2011-03-17 13:30:00+00:00</td>\n",
       "      <td>-0.091090</td>\n",
       "      <td>0.030052</td>\n",
       "    </tr>\n",
       "    <tr>\n",
       "      <th>1</th>\n",
       "      <td>2011-03-18 13:30:00+00:00</td>\n",
       "      <td>-0.027626</td>\n",
       "      <td>-0.008059</td>\n",
       "    </tr>\n",
       "    <tr>\n",
       "      <th>2</th>\n",
       "      <td>2011-03-21 13:30:00+00:00</td>\n",
       "      <td>-0.085866</td>\n",
       "      <td>0.029923</td>\n",
       "    </tr>\n",
       "    <tr>\n",
       "      <th>3</th>\n",
       "      <td>2011-03-22 13:30:00+00:00</td>\n",
       "      <td>-0.019261</td>\n",
       "      <td>-0.002191</td>\n",
       "    </tr>\n",
       "    <tr>\n",
       "      <th>4</th>\n",
       "      <td>2011-03-23 13:30:00+00:00</td>\n",
       "      <td>-0.029605</td>\n",
       "      <td>0.002577</td>\n",
       "    </tr>\n",
       "  </tbody>\n",
       "</table>\n",
       "</div>"
      ],
      "text/plain": [
       "                       time     close  XLE, CBOE ONE: Close\n",
       "0 2011-03-17 13:30:00+00:00 -0.091090              0.030052\n",
       "1 2011-03-18 13:30:00+00:00 -0.027626             -0.008059\n",
       "2 2011-03-21 13:30:00+00:00 -0.085866              0.029923\n",
       "3 2011-03-22 13:30:00+00:00 -0.019261             -0.002191\n",
       "4 2011-03-23 13:30:00+00:00 -0.029605              0.002577"
      ]
     },
     "execution_count": 34,
     "metadata": {},
     "output_type": "execute_result"
    }
   ],
   "source": [
    "data.head()"
   ]
  },
  {
   "cell_type": "code",
   "execution_count": 39,
   "metadata": {},
   "outputs": [],
   "source": [
    "# mod = sm.tsa.arima.ARIMA(train_df_diff['close'][0:252],exog=train_df_diff['close_vix'][0:252], order=(1,0,0))\n",
    "mod = sm.tsa.arima.ARIMA(data['close'],exog=data['XLE, CBOE ONE: Close'], order=(1,0,1))\n"
   ]
  },
  {
   "cell_type": "code",
   "execution_count": 40,
   "metadata": {},
   "outputs": [
    {
     "name": "stderr",
     "output_type": "stream",
     "text": [
      "c:\\Users\\James Stanley\\anaconda3\\envs\\airflow-env\\lib\\site-packages\\statsmodels\\tsa\\statespace\\sarimax.py:966: UserWarning: Non-stationary starting autoregressive parameters found. Using zeros as starting parameters.\n",
      "  warn('Non-stationary starting autoregressive parameters'\n",
      "c:\\Users\\James Stanley\\anaconda3\\envs\\airflow-env\\lib\\site-packages\\statsmodels\\tsa\\statespace\\sarimax.py:978: UserWarning: Non-invertible starting MA parameters found. Using zeros as starting parameters.\n",
      "  warn('Non-invertible starting MA parameters found.'\n",
      "c:\\Users\\James Stanley\\anaconda3\\envs\\airflow-env\\lib\\site-packages\\statsmodels\\base\\model.py:606: ConvergenceWarning: Maximum Likelihood optimization failed to converge. Check mle_retvals\n",
      "  ConvergenceWarning)\n"
     ]
    }
   ],
   "source": [
    "res = mod.fit()"
   ]
  },
  {
   "cell_type": "code",
   "execution_count": 41,
   "metadata": {},
   "outputs": [
    {
     "data": {
      "text/html": [
       "<table class=\"simpletable\">\n",
       "<caption>SARIMAX Results</caption>\n",
       "<tr>\n",
       "  <th>Dep. Variable:</th>         <td>close</td>      <th>  No. Observations:  </th>   <td>2747</td>   \n",
       "</tr>\n",
       "<tr>\n",
       "  <th>Model:</th>            <td>ARIMA(1, 0, 1)</td>  <th>  Log Likelihood     </th> <td>4607.105</td> \n",
       "</tr>\n",
       "<tr>\n",
       "  <th>Date:</th>            <td>Sat, 15 Jul 2023</td> <th>  AIC                </th> <td>-9204.209</td>\n",
       "</tr>\n",
       "<tr>\n",
       "  <th>Time:</th>                <td>13:18:30</td>     <th>  BIC                </th> <td>-9174.618</td>\n",
       "</tr>\n",
       "<tr>\n",
       "  <th>Sample:</th>                  <td>0</td>        <th>  HQIC               </th> <td>-9193.518</td>\n",
       "</tr>\n",
       "<tr>\n",
       "  <th></th>                      <td> - 2747</td>     <th>                     </th>     <td> </td>    \n",
       "</tr>\n",
       "<tr>\n",
       "  <th>Covariance Type:</th>        <td>opg</td>       <th>                     </th>     <td> </td>    \n",
       "</tr>\n",
       "</table>\n",
       "<table class=\"simpletable\">\n",
       "<tr>\n",
       "            <td></td>              <th>coef</th>     <th>std err</th>      <th>z</th>      <th>P>|z|</th>  <th>[0.025</th>    <th>0.975]</th>  \n",
       "</tr>\n",
       "<tr>\n",
       "  <th>const</th>                <td>-6.226e-06</td> <td>    0.001</td> <td>   -0.012</td> <td> 0.990</td> <td>   -0.001</td> <td>    0.001</td>\n",
       "</tr>\n",
       "<tr>\n",
       "  <th>XLE, CBOE ONE: Close</th> <td>   -1.9929</td> <td>    0.024</td> <td>  -81.417</td> <td> 0.000</td> <td>   -2.041</td> <td>   -1.945</td>\n",
       "</tr>\n",
       "<tr>\n",
       "  <th>ar.L1</th>                <td>    0.9217</td> <td>    0.022</td> <td>   42.587</td> <td> 0.000</td> <td>    0.879</td> <td>    0.964</td>\n",
       "</tr>\n",
       "<tr>\n",
       "  <th>ma.L1</th>                <td>   -0.9564</td> <td>    0.017</td> <td>  -55.547</td> <td> 0.000</td> <td>   -0.990</td> <td>   -0.923</td>\n",
       "</tr>\n",
       "<tr>\n",
       "  <th>sigma2</th>               <td>    0.0020</td> <td>  3.3e-05</td> <td>   62.036</td> <td> 0.000</td> <td>    0.002</td> <td>    0.002</td>\n",
       "</tr>\n",
       "</table>\n",
       "<table class=\"simpletable\">\n",
       "<tr>\n",
       "  <th>Ljung-Box (L1) (Q):</th>     <td>0.28</td> <th>  Jarque-Bera (JB):  </th> <td>2310.12</td>\n",
       "</tr>\n",
       "<tr>\n",
       "  <th>Prob(Q):</th>                <td>0.60</td> <th>  Prob(JB):          </th>  <td>0.00</td>  \n",
       "</tr>\n",
       "<tr>\n",
       "  <th>Heteroskedasticity (H):</th> <td>2.00</td> <th>  Skew:              </th>  <td>0.57</td>  \n",
       "</tr>\n",
       "<tr>\n",
       "  <th>Prob(H) (two-sided):</th>    <td>0.00</td> <th>  Kurtosis:          </th>  <td>7.35</td>  \n",
       "</tr>\n",
       "</table><br/><br/>Warnings:<br/>[1] Covariance matrix calculated using the outer product of gradients (complex-step)."
      ],
      "text/plain": [
       "<class 'statsmodels.iolib.summary.Summary'>\n",
       "\"\"\"\n",
       "                               SARIMAX Results                                \n",
       "==============================================================================\n",
       "Dep. Variable:                  close   No. Observations:                 2747\n",
       "Model:                 ARIMA(1, 0, 1)   Log Likelihood                4607.105\n",
       "Date:                Sat, 15 Jul 2023   AIC                          -9204.209\n",
       "Time:                        13:18:30   BIC                          -9174.618\n",
       "Sample:                             0   HQIC                         -9193.518\n",
       "                               - 2747                                         \n",
       "Covariance Type:                  opg                                         \n",
       "========================================================================================\n",
       "                           coef    std err          z      P>|z|      [0.025      0.975]\n",
       "----------------------------------------------------------------------------------------\n",
       "const                -6.226e-06      0.001     -0.012      0.990      -0.001       0.001\n",
       "XLE, CBOE ONE: Close    -1.9929      0.024    -81.417      0.000      -2.041      -1.945\n",
       "ar.L1                    0.9217      0.022     42.587      0.000       0.879       0.964\n",
       "ma.L1                   -0.9564      0.017    -55.547      0.000      -0.990      -0.923\n",
       "sigma2                   0.0020    3.3e-05     62.036      0.000       0.002       0.002\n",
       "===================================================================================\n",
       "Ljung-Box (L1) (Q):                   0.28   Jarque-Bera (JB):              2310.12\n",
       "Prob(Q):                              0.60   Prob(JB):                         0.00\n",
       "Heteroskedasticity (H):               2.00   Skew:                             0.57\n",
       "Prob(H) (two-sided):                  0.00   Kurtosis:                         7.35\n",
       "===================================================================================\n",
       "\n",
       "Warnings:\n",
       "[1] Covariance matrix calculated using the outer product of gradients (complex-step).\n",
       "\"\"\""
      ]
     },
     "execution_count": 41,
     "metadata": {},
     "output_type": "execute_result"
    }
   ],
   "source": [
    "res.summary()"
   ]
  },
  {
   "cell_type": "code",
   "execution_count": null,
   "metadata": {},
   "outputs": [
    {
     "data": {
      "text/plain": [
       "5.921321431606846e-05"
      ]
     },
     "metadata": {},
     "output_type": "display_data"
    }
   ],
   "source": [
    "np.var(res.resid)"
   ]
  },
  {
   "attachments": {},
   "cell_type": "markdown",
   "metadata": {},
   "source": [
    "# No Exog"
   ]
  },
  {
   "cell_type": "code",
   "execution_count": 43,
   "metadata": {},
   "outputs": [],
   "source": [
    "data.head()\n",
    "# mod = sm.tsa.arima.ARIMA(train_df_diff['close'][0:252],exog=train_df_diff['close_vix'][0:252], order=(1,0,0))\n",
    "mod = sm.tsa.arima.ARIMA(data['close'], order=(1,0,1))\n",
    "\n",
    "res = mod.fit()"
   ]
  },
  {
   "cell_type": "code",
   "execution_count": 44,
   "metadata": {},
   "outputs": [
    {
     "data": {
      "text/html": [
       "<table class=\"simpletable\">\n",
       "<caption>SARIMAX Results</caption>\n",
       "<tr>\n",
       "  <th>Dep. Variable:</th>         <td>close</td>      <th>  No. Observations:  </th>   <td>2747</td>   \n",
       "</tr>\n",
       "<tr>\n",
       "  <th>Model:</th>            <td>ARIMA(1, 0, 1)</td>  <th>  Log Likelihood     </th> <td>3929.129</td> \n",
       "</tr>\n",
       "<tr>\n",
       "  <th>Date:</th>            <td>Sat, 15 Jul 2023</td> <th>  AIC                </th> <td>-7850.259</td>\n",
       "</tr>\n",
       "<tr>\n",
       "  <th>Time:</th>                <td>13:26:28</td>     <th>  BIC                </th> <td>-7826.586</td>\n",
       "</tr>\n",
       "<tr>\n",
       "  <th>Sample:</th>                  <td>0</td>        <th>  HQIC               </th> <td>-7841.705</td>\n",
       "</tr>\n",
       "<tr>\n",
       "  <th></th>                      <td> - 2747</td>     <th>                     </th>     <td> </td>    \n",
       "</tr>\n",
       "<tr>\n",
       "  <th>Covariance Type:</th>        <td>opg</td>       <th>                     </th>     <td> </td>    \n",
       "</tr>\n",
       "</table>\n",
       "<table class=\"simpletable\">\n",
       "<tr>\n",
       "     <td></td>       <th>coef</th>     <th>std err</th>      <th>z</th>      <th>P>|z|</th>  <th>[0.025</th>    <th>0.975]</th>  \n",
       "</tr>\n",
       "<tr>\n",
       "  <th>const</th>  <td> 6.194e-05</td> <td>    0.001</td> <td>    0.054</td> <td> 0.957</td> <td>   -0.002</td> <td>    0.002</td>\n",
       "</tr>\n",
       "<tr>\n",
       "  <th>ar.L1</th>  <td>   -0.7716</td> <td>    0.119</td> <td>   -6.469</td> <td> 0.000</td> <td>   -1.005</td> <td>   -0.538</td>\n",
       "</tr>\n",
       "<tr>\n",
       "  <th>ma.L1</th>  <td>    0.7395</td> <td>    0.126</td> <td>    5.877</td> <td> 0.000</td> <td>    0.493</td> <td>    0.986</td>\n",
       "</tr>\n",
       "<tr>\n",
       "  <th>sigma2</th> <td>    0.0034</td> <td> 5.84e-05</td> <td>   57.359</td> <td> 0.000</td> <td>    0.003</td> <td>    0.003</td>\n",
       "</tr>\n",
       "</table>\n",
       "<table class=\"simpletable\">\n",
       "<tr>\n",
       "  <th>Ljung-Box (L1) (Q):</th>     <td>0.06</td> <th>  Jarque-Bera (JB):  </th> <td>1556.81</td>\n",
       "</tr>\n",
       "<tr>\n",
       "  <th>Prob(Q):</th>                <td>0.81</td> <th>  Prob(JB):          </th>  <td>0.00</td>  \n",
       "</tr>\n",
       "<tr>\n",
       "  <th>Heteroskedasticity (H):</th> <td>1.27</td> <th>  Skew:              </th>  <td>0.73</td>  \n",
       "</tr>\n",
       "<tr>\n",
       "  <th>Prob(H) (two-sided):</th>    <td>0.00</td> <th>  Kurtosis:          </th>  <td>6.39</td>  \n",
       "</tr>\n",
       "</table><br/><br/>Warnings:<br/>[1] Covariance matrix calculated using the outer product of gradients (complex-step)."
      ],
      "text/plain": [
       "<class 'statsmodels.iolib.summary.Summary'>\n",
       "\"\"\"\n",
       "                               SARIMAX Results                                \n",
       "==============================================================================\n",
       "Dep. Variable:                  close   No. Observations:                 2747\n",
       "Model:                 ARIMA(1, 0, 1)   Log Likelihood                3929.129\n",
       "Date:                Sat, 15 Jul 2023   AIC                          -7850.259\n",
       "Time:                        13:26:28   BIC                          -7826.586\n",
       "Sample:                             0   HQIC                         -7841.705\n",
       "                               - 2747                                         \n",
       "Covariance Type:                  opg                                         \n",
       "==============================================================================\n",
       "                 coef    std err          z      P>|z|      [0.025      0.975]\n",
       "------------------------------------------------------------------------------\n",
       "const       6.194e-05      0.001      0.054      0.957      -0.002       0.002\n",
       "ar.L1         -0.7716      0.119     -6.469      0.000      -1.005      -0.538\n",
       "ma.L1          0.7395      0.126      5.877      0.000       0.493       0.986\n",
       "sigma2         0.0034   5.84e-05     57.359      0.000       0.003       0.003\n",
       "===================================================================================\n",
       "Ljung-Box (L1) (Q):                   0.06   Jarque-Bera (JB):              1556.81\n",
       "Prob(Q):                              0.81   Prob(JB):                         0.00\n",
       "Heteroskedasticity (H):               1.27   Skew:                             0.73\n",
       "Prob(H) (two-sided):                  0.00   Kurtosis:                         6.39\n",
       "===================================================================================\n",
       "\n",
       "Warnings:\n",
       "[1] Covariance matrix calculated using the outer product of gradients (complex-step).\n",
       "\"\"\""
      ]
     },
     "execution_count": 44,
     "metadata": {},
     "output_type": "execute_result"
    }
   ],
   "source": [
    "res.summary()"
   ]
  },
  {
   "cell_type": "markdown",
   "metadata": {},
   "source": []
  },
  {
   "cell_type": "code",
   "execution_count": 47,
   "metadata": {},
   "outputs": [
    {
     "name": "stdout",
     "output_type": "stream",
     "text": [
      "1.959963984540054\n",
      "0.05\n"
     ]
    }
   ],
   "source": [
    "import numpy as np\n",
    "from scipy import stats\n",
    "\n",
    "\n",
    "# alpha to critical\n",
    "alpha = 0.05\n",
    "n_sided = 2 # 2-sided test\n",
    "z_crit = stats.norm.ppf(1-alpha/n_sided)\n",
    "print(z_crit) # 1.959963984540054\n",
    "\n",
    "# critical to alpha\n",
    "alpha = stats.norm.sf(z_crit) * n_sided\n",
    "print(alpha) # 0.05"
   ]
  }
 ],
 "metadata": {
  "kernelspec": {
   "display_name": "airflow-env",
   "language": "python",
   "name": "python3"
  },
  "language_info": {
   "codemirror_mode": {
    "name": "ipython",
    "version": 3
   },
   "file_extension": ".py",
   "mimetype": "text/x-python",
   "name": "python",
   "nbconvert_exporter": "python",
   "pygments_lexer": "ipython3",
   "version": "3.7.13"
  },
  "orig_nbformat": 4
 },
 "nbformat": 4,
 "nbformat_minor": 2
}
