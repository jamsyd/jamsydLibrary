{
 "cells": [
  {
   "cell_type": "code",
   "execution_count": 1,
   "metadata": {},
   "outputs": [],
   "source": [
    "import numpy as np\n",
    "import pandas as pd\n",
    "\n",
    "import matplotlib.pyplot as plt"
   ]
  },
  {
   "cell_type": "code",
   "execution_count": null,
   "metadata": {},
   "outputs": [],
   "source": [
    "for date in merge_df['entry_date'].unique():\n",
    "    \n",
    "    position_scaled_df   = []\n",
    "\n",
    "    for position in  merge_df[merge_df['entry_date'] == date]['position_identifier'].unique():\n",
    "\n",
    "        position_df = merge_df[(merge_df['position_identifier'] == position)]\n",
    "        position_df.reset_index(inplace=True)\n",
    "\n",
    "        scale         = []\n",
    "        portfolio_lst = []\n",
    "\n",
    "        i = 0\n",
    "        while i < len(position_df):\n",
    "\n",
    "            if position_df['positionType'][i] == 'long':\n",
    "                scale.append(np.floor(portfolio_value*position_size/position_df['Close'][0]))\n",
    "\n",
    "            if position_df['positionType'][i] == 'short':\n",
    "                scale.append(np.floor(portfolio_value*position_size/position_df['Close'][0]))\n",
    "\n",
    "            if position_df['positionType'][i] == 'no_position':\n",
    "                scale.append(0)\n",
    "\n",
    "            portfolio_lst.append(portfolio_value)\n",
    "\n",
    "            i+=1\n",
    "\n",
    "        position_df['scale']           = scale\n",
    "        position_df['rescaled_pnl']    = position_df['scale']*position_df['pnl']\n",
    "        position_df['portfolio_value'] = portfolio_lst\n",
    " \n",
    "        position_scaled_df.append(position_df)\n",
    "\n",
    "    updated_position_df = pd.concat(position_scaled_df,axis = 0)\n",
    "\n",
    "    updated_position_lst.append(pd.concat(position_scaled_df,axis = 0))"
   ]
  }
 ],
 "metadata": {
  "kernelspec": {
   "display_name": "airflow-env",
   "language": "python",
   "name": "python3"
  },
  "language_info": {
   "codemirror_mode": {
    "name": "ipython",
    "version": 3
   },
   "file_extension": ".py",
   "mimetype": "text/x-python",
   "name": "python",
   "nbconvert_exporter": "python",
   "pygments_lexer": "ipython3",
   "version": "3.7.13"
  },
  "orig_nbformat": 4
 },
 "nbformat": 4,
 "nbformat_minor": 2
}
