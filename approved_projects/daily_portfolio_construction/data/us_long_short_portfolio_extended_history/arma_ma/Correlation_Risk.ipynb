{
 "cells": [
  {
   "cell_type": "code",
   "execution_count": 3,
   "metadata": {},
   "outputs": [],
   "source": [
    "import os\n",
    "import glob\n",
    "\n",
    "import numpy as np\n",
    "import pandas as pd\n",
    "\n",
    "import matplotlib.pyplot as plt"
   ]
  },
  {
   "cell_type": "code",
   "execution_count": 4,
   "metadata": {},
   "outputs": [],
   "source": [
    "products  = [\"IYR\",\"XLB\",\"XLE\",\"XLF\",\"XLI\",\"XLK\",\"XLP\",\"XLU\",\"XLV\",\"XOP\",\"XRT\",\"XTL\"]\n",
    "\n",
    "path      = r\"C:\\Users\\James Stanley\\Documents\\GitHub\\backtest_utilities\\approved_projects\\daily_portfolio_construction\\data\\us_long_short_portfolio_extended_history\\arma_ma\"\n",
    "csv_files = glob.glob(os.path.join(path, \"*.csv\"))"
   ]
  },
  {
   "cell_type": "code",
   "execution_count": 1,
   "metadata": {},
   "outputs": [
    {
     "ename": "NameError",
     "evalue": "name 'products' is not defined",
     "output_type": "error",
     "traceback": [
      "\u001b[1;31m---------------------------------------------------------------------------\u001b[0m",
      "\u001b[1;31mNameError\u001b[0m                                 Traceback (most recent call last)",
      "\u001b[1;32m~\\AppData\\Local\\Temp\\ipykernel_14120\\3537979773.py\u001b[0m in \u001b[0;36m<module>\u001b[1;34m\u001b[0m\n\u001b[0;32m      1\u001b[0m \u001b[0mmerge_lst\u001b[0m \u001b[1;33m=\u001b[0m \u001b[1;33m[\u001b[0m\u001b[1;33m]\u001b[0m\u001b[1;33m\u001b[0m\u001b[1;33m\u001b[0m\u001b[0m\n\u001b[0;32m      2\u001b[0m \u001b[1;33m\u001b[0m\u001b[0m\n\u001b[1;32m----> 3\u001b[1;33m \u001b[1;32mfor\u001b[0m \u001b[0mproduct\u001b[0m \u001b[1;32min\u001b[0m \u001b[0mproducts\u001b[0m\u001b[1;33m:\u001b[0m\u001b[1;33m\u001b[0m\u001b[1;33m\u001b[0m\u001b[0m\n\u001b[0m\u001b[0;32m      4\u001b[0m \u001b[1;33m\u001b[0m\u001b[0m\n\u001b[0;32m      5\u001b[0m     \u001b[1;32mfor\u001b[0m \u001b[0mf\u001b[0m \u001b[1;32min\u001b[0m \u001b[0mcsv_files\u001b[0m\u001b[1;33m:\u001b[0m\u001b[1;33m\u001b[0m\u001b[1;33m\u001b[0m\u001b[0m\n",
      "\u001b[1;31mNameError\u001b[0m: name 'products' is not defined"
     ]
    }
   ],
   "source": [
    "merge_lst = []\n",
    "\n",
    "for product in products:\n",
    "    \n",
    "    for f in csv_files:\n",
    "\n",
    "        if f == product + \".csv\":\n",
    "\n",
    "            pnl_df = pd.read_csv(f)      \n",
    "\n",
    "            close_df = pd.read_csv(product+'.csv')\n",
    "\n",
    "            merge_lst.append(result)\n",
    "\n",
    "merge_df = pd.concat(merge_lst,axis=0).reset_index()"
   ]
  }
 ],
 "metadata": {
  "kernelspec": {
   "display_name": "airflow-env",
   "language": "python",
   "name": "python3"
  },
  "language_info": {
   "codemirror_mode": {
    "name": "ipython",
    "version": 3
   },
   "file_extension": ".py",
   "mimetype": "text/x-python",
   "name": "python",
   "nbconvert_exporter": "python",
   "pygments_lexer": "ipython3",
   "version": "3.7.13"
  },
  "orig_nbformat": 4
 },
 "nbformat": 4,
 "nbformat_minor": 2
}
