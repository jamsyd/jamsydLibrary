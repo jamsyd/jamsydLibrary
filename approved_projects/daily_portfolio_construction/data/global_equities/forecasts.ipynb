{
 "cells": [
  {
   "cell_type": "code",
   "execution_count": 1,
   "metadata": {},
   "outputs": [],
   "source": [
    "import pandas as pd\n",
    "\n",
    "import matplotlib.pyplot as plt"
   ]
  },
  {
   "cell_type": "code",
   "execution_count": 2,
   "metadata": {},
   "outputs": [],
   "source": [
    "product_df = pd.read_csv(r\"C:\\Users\\James Stanley\\Documents\\GitHub\\backtest_utilities\\approved_projects\\daily_portfolio_construction\\data\\global_equities\\merged_file.csv\",parse_dates=True,index_col='Date')"
   ]
  },
  {
   "cell_type": "code",
   "execution_count": 3,
   "metadata": {},
   "outputs": [
    {
     "data": {
      "text/plain": [
       "array(['SPY', 'EWA', 'EWJ', 'EWT', 'MCHI', 'THD', 'EWM', 'VNM', 'INDY',\n",
       "       'KWT', 'EWY', 'EWS', 'EPHE', 'EWH', 'EWW', 'QAT', 'KSA', 'EZA',\n",
       "       'EWQ', 'HEWG', 'EWI', 'EIS', 'TUR', 'EWN', 'ENOR', 'EWP', 'EWD',\n",
       "       'EWL', 'EWU', 'ECH', 'EPU', 'EWZ', 'EPOL'], dtype=object)"
      ]
     },
     "execution_count": 3,
     "metadata": {},
     "output_type": "execute_result"
    }
   ],
   "source": [
    "product_df['product_name'].unique()"
   ]
  },
  {
   "cell_type": "code",
   "execution_count": null,
   "metadata": {},
   "outputs": [],
   "source": [
    "product_names = []\n",
    "\n",
    "i = 0\n",
    "while i < len(product_df):\n",
    "\n",
    "for product in product_df['product_name'].unique():\n",
    "\n",
    "    filtered_df = product_df[product_df[\"product_name\"] == product]\n",
    "\n",
    "    plt.figure(figsize=(45,15))\n",
    "    plt.plot(filtered_df[\"\"])\n",
    "\n",
    "    plt.show()\n",
    "\n",
    "    i+=1\n"
   ]
  }
 ],
 "metadata": {
  "kernelspec": {
   "display_name": "airflow-env",
   "language": "python",
   "name": "python3"
  },
  "language_info": {
   "codemirror_mode": {
    "name": "ipython",
    "version": 3
   },
   "file_extension": ".py",
   "mimetype": "text/x-python",
   "name": "python",
   "nbconvert_exporter": "python",
   "pygments_lexer": "ipython3",
   "version": "3.7.13"
  },
  "orig_nbformat": 4
 },
 "nbformat": 4,
 "nbformat_minor": 2
}
